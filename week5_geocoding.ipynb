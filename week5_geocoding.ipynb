{
 "cells": [
  {
   "cell_type": "markdown",
   "metadata": {},
   "source": [
    "# Using databases with python- week 5\n",
    "\n",
    "From [coursera](https://www.coursera.org/learn/python-databases).\n",
    "\n",
    "July 2022.\n"
   ]
  },
  {
   "cell_type": "code",
   "execution_count": 1,
   "metadata": {},
   "outputs": [
    {
     "data": {
      "application/javascript": [
       "$.getScript('https://kmahelona.github.io/ipython_notebook_goodies/ipython_notebook_toc.js')\n"
      ],
      "text/plain": [
       "<IPython.core.display.Javascript object>"
      ]
     },
     "metadata": {},
     "output_type": "display_data"
    }
   ],
   "source": [
    "%%javascript\n",
    "$.getScript('https://kmahelona.github.io/ipython_notebook_goodies/ipython_notebook_toc.js')"
   ]
  },
  {
   "cell_type": "markdown",
   "metadata": {},
   "source": [
    "<div id=\"toc\"></div>"
   ]
  },
  {
   "cell_type": "markdown",
   "metadata": {},
   "source": [
    "# Multi-step data analysis\n",
    "\n",
    "Now we're going to combine everything we've done so far. \n",
    "\n",
    "* Gather info from a data source  \n",
    "    * Keep this part relatively simple  \n",
    "    * Don't try to do any cleaning here  \n",
    "    * This can take a long time, so you may want to do it in batches. Design it to be a restartable process.  \n",
    "* Store that information in a database  \n",
    "    * Databases are useful because they are not easily corruptable. So if a new data retrieval fails, it won't corrupt your entire database.  \n",
    "* Clean/process  \n",
    "* Visualize  \n",
    "    * In these examples, using maps, jscript, and D3JS  \n",
    "* Analyze  \n",
    "\n",
    "This isn't exactly data mining, it's less sophisticated than that. More sophisticated data mining technologies exist such as hadoop, spark, etc. Often, python is part of those. \n",
    "\n",
    "<img src=\"img/week5_02.jpg?modified=1\" />"
   ]
  },
  {
   "cell_type": "markdown",
   "metadata": {},
   "source": [
    "# GeoData Example\n",
    "\n",
    "Use the Google Maps API to pull some data. Here's a diagram of the entire workflow. \n",
    "\n",
    "<img src=\"img/week5_01.jpg?modified=1\" />"
   ]
  },
  {
   "cell_type": "markdown",
   "metadata": {},
   "source": [
    "## `geload.py`: Query data and store to `geodata.sqlite`\n",
    "First use `geoload.py` to pull data and store it to a local cache in a database called `geodata.sqlite`.\n",
    "\n",
    "In this case we are pulling from a text file that has a list of locations. `geoload.py` will pass that location name to a Google Maps API and then store the info to the database `geodata.sqlite`.\n",
    "\n",
    "I ran it in VS code. The output looks like this:"
   ]
  },
  {
   "cell_type": "markdown",
   "metadata": {},
   "source": [
    "```\n",
    "Retrieving http://py4e-data.dr-chuck.net/json?address=Universidade+Federal+do+Rio+Grande+do+Sul&key=42\n",
    "Retrieved 1910 characters {    \"results\" : [  \n",
    "\n",
    "Retrieving http://py4e-data.dr-chuck.net/json?address=Universidade+Federal+do+Rio+de+Janeiro&key=42\n",
    "Retrieved 2410 characters {    \"results\" : [  \n",
    "\n",
    "Retrieving http://py4e-data.dr-chuck.net/json?address=Universidade+Tecnica+de+Lisboa&key=42\n",
    "Retrieved 1589 characters {    \"results\" : [  \n",
    "\n",
    "Retrieving http://py4e-data.dr-chuck.net/json?address=Universidade+de+Sao+Paulo&key=42\n",
    "Retrieved 1710 characters {    \"results\" : [  \n",
    "\n",
    "Retrieving http://py4e-data.dr-chuck.net/json?address=Universidade+do+Minho&key=42\n",
    "Retrieved 1798 characters {    \"results\" : [  \n",
    "Pausing for a bit...\n",
    "\n",
    "Retrieving http://py4e-data.dr-chuck.net/json?address=Universitas+Gadjah+Mada&key=42\n",
    "Retrieved 2332 characters {    \"results\" : [  \n",
    "Retrieved 200 locations, restart to retrieve more\n",
    "Run geodump.py to read the data from the database so you can vizualize it on a map.\n",
    "```"
   ]
  },
  {
   "cell_type": "markdown",
   "metadata": {},
   "source": [
    "Let's look at the database we just created and see what is there. I'll open it in SQLiteStudio. \n",
    "\n",
    "<img src=\"img/week5_03.jpg?modified=1\" />\n",
    "\n",
    "There is one table called `Locations` with two columns:  \n",
    "* `address`: contains the info from the `where.data` file that we passed to `geoload.py`  \n",
    "* `geodata`: looks like a dictionary containing the returned information. Here is what the first entry looks like (when `address = AGH University of Science and Technology`)  \n",
    "\n",
    "```\n",
    "{\n",
    "   \"results\" : [\n",
    "      {\n",
    "         \"address_components\" : [\n",
    "            {\n",
    "               \"long_name\" : \"30\",\n",
    "               \"short_name\" : \"30\",\n",
    "               \"types\" : [ \"street_number\" ]\n",
    "            },\n",
    "            {\n",
    "               \"long_name\" : \"aleja Adama Mickiewicza\",\n",
    "               \"short_name\" : \"aleja Adama Mickiewicza\",\n",
    "               \"types\" : [ \"route\" ]\n",
    "            },\n",
    "            {\n",
    "               \"long_name\" : \"Krowodrza\",\n",
    "               \"short_name\" : \"Krowodrza\",\n",
    "               \"types\" : [ \"political\", \"sublocality\", \"sublocality_level_1\" ]\n",
    "            },\n",
    "            {\n",
    "               \"long_name\" : \"Kraków\",\n",
    "               \"short_name\" : \"Kraków\",\n",
    "               \"types\" : [ \"locality\", \"political\" ]\n",
    "            },\n",
    "            {\n",
    "               \"long_name\" : \"Kraków\",\n",
    "               \"short_name\" : \"Kraków\",\n",
    "               \"types\" : [ \"administrative_area_level_2\", \"political\" ]\n",
    "            },\n",
    "            {\n",
    "               \"long_name\" : \"Małopolskie\",\n",
    "               \"short_name\" : \"Małopolskie\",\n",
    "               \"types\" : [ \"administrative_area_level_1\", \"political\" ]\n",
    "            },\n",
    "            {\n",
    "               \"long_name\" : \"Poland\",\n",
    "               \"short_name\" : \"PL\",\n",
    "               \"types\" : [ \"country\", \"political\" ]\n",
    "            },\n",
    "            {\n",
    "               \"long_name\" : \"30-059\",\n",
    "               \"short_name\" : \"30-059\",\n",
    "               \"types\" : [ \"postal_code\" ]\n",
    "            }\n",
    "         ],\n",
    "         \"formatted_address\" : \"aleja Adama Mickiewicza 30, 30-059 Kraków, Poland\",\n",
    "         \"geometry\" : {\n",
    "            \"location\" : {\n",
    "               \"lat\" : 50.06688579999999,\n",
    "               \"lng\" : 19.9136192\n",
    "            },\n",
    "            \"location_type\" : \"ROOFTOP\",\n",
    "            \"viewport\" : {\n",
    "               \"northeast\" : {\n",
    "                  \"lat\" : 50.0699639,\n",
    "                  \"lng\" : 19.9239857\n",
    "               },\n",
    "               \"southwest\" : {\n",
    "                  \"lat\" : 50.0643824,\n",
    "                  \"lng\" : 19.8998463\n",
    "               }\n",
    "            }\n",
    "         },\n",
    "         \"partial_match\" : true,\n",
    "         \"place_id\" : \"ChIJIZu1VqdbFkcR0RezIbqNDLI\",\n",
    "         \"plus_code\" : {\n",
    "            \"compound_code\" : \"3W87+QC Kraków, Poland\",\n",
    "            \"global_code\" : \"9F2X3W87+QC\"\n",
    "         },\n",
    "         \"types\" : [ \"establishment\", \"point_of_interest\", \"university\" ]\n",
    "      }\n",
    "   ],\n",
    "   \"status\" : \"OK\"\n",
    "}\n",
    "```"
   ]
  },
  {
   "cell_type": "markdown",
   "metadata": {},
   "source": [
    "## Use `geodump.py` to parse `geodata.sqlite`; store it to `where.js`\n",
    "\n",
    "We need to convert this into a format that can be read and displayed by the frontend website. We will use `geodump.py` to read info from the database and store it in `where.js`. \n",
    "\n",
    "The example `where.js` file that was in the original downloaded file looks like this:\n",
    "\n",
    "```\n",
    "myData = [\n",
    "[42.340075,-71.0895367, 'Northeastern, Boston, MA 02115, USA'],\n",
    "[32.778949,35.019648, 'Technion/ Sports Building, Haifa'],\n",
    "[33.1561058,131.826132, 'Japan, 〒875-0002 Ōita-ken, Usuki-shi, Shitanoe, 1232−2 ＵＭＤ'],\n",
    "[42.4036847,-71.120482, 'South Hall Tufts University, 30 Lower Campus Rd, Somerville, MA 02144, USA'],\n",
    "[-37.914517,145.1303881, 'Monash College, Wellington Rd, Clayton VIC 3168, Australia'],\n",
    "[53.2948229,69.4047872, 'Kokshetau 020000, Kazakhstan'],\n",
    "[40.7127837,-74.0059413, 'New York, NY, USA']...]\n",
    "```\n",
    "\n",
    "Now run `geodump.py`. It prints a lot of output, which is the formatted address / latitude / longitude for each entry. It looks like this: \n",
    "\n",
    "```\n",
    "HCPW+WMC, 11 Avenida, Cdad. de Guatemala 01012, Guatemala 14.5873005 -90.55336129999999\n",
    "C/Plaza de Santa Cruz, 8, 47002 Valladolid, Spain 41.6569271 -4.7140547\n",
    "Chía, Cundinamarca, Colombia 4.855814899999999 -74.0417628\n",
    "18 Avenida 11-95 Guatemala, Cdad. de Guatemala 01015, Guatemala 14.603762 -90.48924799999999\n",
    "Campus I Lot. Cidade Universitaria - Castelo Branco, João Pessoa - PB, 58051-900, Brazil -7.137748500000001 -34.8458974\n",
    "R. Eng. Agronômico Andrei Cristian Ferreira, s/n - Trindade, Florianópolis - SC, 88040-900, Brazil -27.5999666 -48.5194152\n",
    "Farroupilha, Porto Alegre - RS, 90040-040, Brazil -30.0339726 -51.2190483\n",
    "Av. Pedro Calmon, 550 - Cidade Universitária da Universidade Federal do Rio de Janeiro, Rio de Janeiro - RJ, 21941-901, Brazil -22.8625345 -43.2234737\n",
    "```"
   ]
  },
  {
   "cell_type": "markdown",
   "metadata": {},
   "source": [
    "Take a look at `where.js` again and see what it looks like. It's the same format as before but with different content. The previous entries have been replaced:\n",
    "\n",
    "```\n",
    "myData = [\n",
    "[50.06688579999999,19.9136192, 'aleja Adama Mickiewicza 30, 30-059 Kraków, Poland'],\n",
    "[52.2394019,21.0150792, 'Krakowskie Przedmieście 5, 00-068 Warszawa, Poland'],\n",
    "[30.0185741,31.5013996, 'Plot 15 Admin building (South tower) 90 Axis, Beside FUE, in frond of AUC قسم أول القاهرة الجديدة، محافظة القاهرة‬ 4728120،، New Cairo 1, Cairo Governorate 4728120, Egypt'],\n",
    "[33.4242399,-111.9280527, 'Tempe, AZ 85281, USA'],\n",
    "[38.0399391,23.8030901, 'Monumental Plaza, Building C, 1st Floor, Leof. Kifisias 44, Marousi 151 25, Greece'],\n",
    "[28.3588163,75.58802039999999, 'Vidya Vihar, Pilani, Rajasthan 333031, India']...]\n",
    "```"
   ]
  },
  {
   "cell_type": "markdown",
   "metadata": {},
   "source": [
    "## Visualize data with `where.html`\n",
    "\n",
    "I can look into the raw html for this file and see a bit of what it's doing. I see that it is loading `where.js`, loading a style sheet, and using a function `initialize` to create each map marker. \n",
    "\n",
    "Here's what it looks like when I open it in a web browser:  \n",
    "\n",
    "<img src=\"img/week5_04.jpg?modified=1\" />\n",
    "\n",
    "I can hover over each marker and see a label for the marker. I was able to find a few of the entries from the list above to confirm that the right data is being displayed on the map. "
   ]
  },
  {
   "attachments": {},
   "cell_type": "markdown",
   "metadata": {},
   "source": [
    "# Homework: Add my own location\n",
    "\n",
    "I'm going to add the location of one of my favorite hikes: Cooper Mountain Nature Park. \n",
    "\n",
    "## `where2.data`, `geoload.py`, `geoload2.sqlite`\n",
    "\n",
    "Start by adding it to `where.data` and run `geoload.py`. I'm going to rename it to `where2.data` and shorten the file to speed things up. The end of `where2.data` looks like this: \n",
    "\n",
    "```\n",
    "...\n",
    "federal institute of tecnology and education from southeastern Minas Gerais\n",
    "kansas state university\n",
    "universidad complutense de madrid\n",
    "university of Patras\n",
    "university of padua\n",
    "Cooper Mountain Nature Park\n",
    "```\n",
    "\n",
    "Here's what the output of `geoload.py` looks like:\n",
    "\n",
    "\n",
    "<img src=\"img/week5_05.jpg?modified=2\" />\n",
    "\n",
    "Let's take a look at the database and make sure I see this entry. \n",
    "\n",
    "<img src=\"img/week5_06.jpg?modified=2\" />\n",
    "\n",
    "Looks good. "
   ]
  },
  {
   "cell_type": "markdown",
   "metadata": {},
   "source": [
    "# `geodump.py` and `where2.js`\n",
    "\n",
    "Now run `geodump.py` to generate a new file with our entry: `where2.js`. Here's what the output looks like:\n",
    "\n",
    "\n",
    "<img src=\"img/week5_07.jpg?modified=1\" />\n",
    "\n",
    "\n"
   ]
  },
  {
   "cell_type": "markdown",
   "metadata": {},
   "source": [
    "# `where2.html`\n",
    "\n",
    "Now load the data in a web browser and zoom in the location. Do we see it? There it is!\n",
    "\n",
    "<img src=\"img/week5_08.jpg?modified=1\" />"
   ]
  },
  {
   "cell_type": "markdown",
   "metadata": {},
   "source": [
    "Now I can upload these images for the assignment. "
   ]
  },
  {
   "cell_type": "code",
   "execution_count": null,
   "metadata": {},
   "outputs": [],
   "source": []
  }
 ],
 "metadata": {
  "kernelspec": {
   "display_name": "Python 3",
   "language": "python",
   "name": "python3"
  },
  "language_info": {
   "codemirror_mode": {
    "name": "ipython",
    "version": 3
   },
   "file_extension": ".py",
   "mimetype": "text/x-python",
   "name": "python",
   "nbconvert_exporter": "python",
   "pygments_lexer": "ipython3",
   "version": "3.7.1"
  }
 },
 "nbformat": 4,
 "nbformat_minor": 2
}
