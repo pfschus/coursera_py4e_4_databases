{
 "cells": [
  {
   "cell_type": "markdown",
   "metadata": {},
   "source": [
    "# Using databases with python- week 2\n"
   ]
  },
  {
   "cell_type": "markdown",
   "metadata": {},
   "source": [
    "From [coursera](https://www.coursera.org/learn/python-databases).\n",
    "\n",
    "July 2022. "
   ]
  },
  {
   "cell_type": "code",
   "execution_count": 1,
   "metadata": {},
   "outputs": [
    {
     "data": {
      "application/javascript": [
       "$.getScript('https://kmahelona.github.io/ipython_notebook_goodies/ipython_notebook_toc.js')\n"
      ],
      "text/plain": [
       "<IPython.core.display.Javascript object>"
      ]
     },
     "metadata": {},
     "output_type": "display_data"
    }
   ],
   "source": [
    "%%javascript\n",
    "$.getScript('https://kmahelona.github.io/ipython_notebook_goodies/ipython_notebook_toc.js')"
   ]
  },
  {
   "cell_type": "markdown",
   "metadata": {},
   "source": [
    "<div id=\"toc\"></div>"
   ]
  },
  {
   "cell_type": "markdown",
   "metadata": {},
   "source": [
    "# Relational Databases\n",
    "\n",
    "Used for accessing random access memory in a smart way. Rather than scanning through all the data until you get to the part you want, go straight there.  \n",
    "\n",
    "## Terminology\n",
    "\n",
    "* **Database**: contains many tables  \n",
    "* **Relation (or table)**: contains tuples and attributes  \n",
    "* **Tuple (or row)**: a set of fields that generally represents an \"object\" like a person or a music track  \n",
    "* **Attribute (also column or field)**: one of possibly many elements of data corresponding to the object represented by the row  \n",
    "\n",
    "People in mathematics will use the terminology relation, tuple, and attribute. Coders tend to say table, row, column/field.\n",
    "\n",
    "Oracle (the company) developed most of this. They beat out a lot of other companies like IBM because they were willing to do the math to get relational databases to work. \n",
    "\n",
    "Think about a database as a giant Excel file. The sheets are the tables. Each table has rows and columns.\n",
    "\n",
    "**SQL** (structured query language) is the language we use to issue commands to the database. \n",
    "* Ex: create a table, retrieve some data, import data, delete data (CRUD)  \n",
    "* SQL was decided on by several big industry companies and NIST.  \n",
    "* SQL is a beautiful language because it is simple and can do a lot. However, it requires the data to be really well organized.  \n",
    "* Python is better at handling messy data, so Python and SQL make a good team.  \n",
    "\n",
    "**Roles**: There are generally two major roles in a large project:  \n",
    "* Application developer- builds the logic for the application, including the look and feel, and monitors the app for problems.  \n",
    "* Database administrator- Monitors and adjusts the database as the program runs in production. They may have specialized database tools to talk straight to the database, instead of going through SQL.  \n",
    "* Both people may participate in the building of the \"data model\"  \n",
    "**Database model / schema**: This is like your contract- an agreement for how you will build the database. It's the structure or format of a database, described in a formal language supported by the database management system. \n",
    "\n",
    "**SQLite**: built-in to a lot of applications directly. It is written in python. It's fast and aimed at smaller pieces of data. Import it in python directly.  "
   ]
  },
  {
   "cell_type": "markdown",
   "metadata": {},
   "source": [
    "# Single table CRUD: Create, read, update, delete\n",
    "\n",
    "## Create a database\n",
    "\n",
    "Let's create a database to practice on. Open `SQLiteStudio`, go to Database > Add a Database, and store it to a local file. I named mine `week2_sql1.db`. \n",
    "\n",
    "Create a single table. \n",
    "\n",
    "`CREATE TABLE Users(\n",
    "    name VARCHAR(128),\n",
    "    email VARCHAR(128)\n",
    ")`\n",
    "\n",
    "This is our **schema**, like a contract to say what we can put into the databse. In this case, we can only create two columns, name and email, each can contain an entry with up to 128 characters. You need to figure out what kind of data you're going to use before you get started. \n",
    "\n",
    "Select the database, enter that code into the query box, and hit run. It will create a new table, so that now under the table outline it has (1) next to it. \n",
    "\n",
    "![week2_sql1_01](img\\week2_sql1_01.jpg)"
   ]
  },
  {
   "cell_type": "markdown",
   "metadata": {},
   "source": [
    "## Create / delete / update entries\n",
    "\n",
    "**CREATE**\n",
    "\n",
    "Now enter a few records. In this case we are going to do this manually. Go to Data > Grid View, and click insert multiple rows, enter the number of rows, and then it will generate a little table. Enter your text into the table, and then press the green check mark to \"commit\" the values to the table. \n",
    "\n",
    "In some SQL editors you can look at the log to see the raw SQL code corresponding to your manual changes, but `SQLiteStudio` doesn't seem to offer that.\n",
    "\n",
    "<img src=\"img\\week2_sql1_02.jpg?modified=1\" />"
   ]
  },
  {
   "cell_type": "markdown",
   "metadata": {},
   "source": [
    "Now try doing this through SQL code. You will use the same syntax as displayed above:\n",
    "\n",
    "`INSERT INTO Users (name, email) VALUES ('Rich','rschuste@umich.edu')`\n",
    "\n",
    "Enter that into the `Execute SQL` box and click Run. Once it runs successfully, you can go back to the data table and hit Refresh to see the new entry. \n",
    "\n",
    "<img src=\"img\\week2_sql1_03.jpg?modified=1\" />"
   ]
  },
  {
   "cell_type": "markdown",
   "metadata": {},
   "source": [
    "**DELETE**\n",
    "\n",
    "Next, delete a user. Use the syntax:\n",
    "\n",
    "`DELETE FROM Users WHERE email='rschuste@umich.edu'`\n",
    "\n",
    "The `WHERE` statement tells it to only delete entries where this is true. It will lead to any number of rows being deleted where that condition is true.\n",
    "\n",
    "If you go back to the data table, it will be gone. "
   ]
  },
  {
   "cell_type": "markdown",
   "metadata": {},
   "source": [
    "**UPDATE** \n",
    "\n",
    "If you want to change the contents of an entry you can update. This will aply the change to any rows that match the `WHERE` clause. In this case, let's update Charlie's name to Charles. \n",
    "\n",
    "`UPDATE Users SET name='Charles' WHERE email='caschulx@umich.edu'`\n",
    "\n",
    "This initially failed because I have a typo in Charlie's email address, so it couldn't find his entry. It's safe to make the change based on his first name directly: \n",
    "\n",
    "`UPDATE Users SET name='Charles' WHERE name='Charlie'`\n",
    "\n",
    "That did the trick.\n",
    "\n",
    "<img src=\"img\\week2_sql1_04.jpg?modified=1\" />"
   ]
  },
  {
   "cell_type": "markdown",
   "metadata": {},
   "source": [
    "## Read entries\n",
    "\n",
    "The last part of C**R**UD. You can either retrieve all the records or a subset of the records that meet a WHERE condition. \n",
    "\n",
    "* `Select * FROM Users`  \n",
    "    * (We are actually implicitly running this command every time we browse the data in our UI.)  \n",
    "* `Select * FROM Users WHERE email='cashulx@umich.edu'`\n",
    "\n",
    "You can also order by a certain column. Databases are really good at sorting. \n",
    "\n",
    "*  `Select * FROM Users ORDER BY name`\n",
    "\n",
    "<img src=\"img\\week2_sql1_05.jpg?modified=1\" />"
   ]
  },
  {
   "cell_type": "markdown",
   "metadata": {},
   "source": [
    "So far all of this is really simple. The power comes when you have multiple tables and you start modeling data at the connections between things. "
   ]
  },
  {
   "cell_type": "code",
   "execution_count": null,
   "metadata": {},
   "outputs": [],
   "source": []
  }
 ],
 "metadata": {
  "kernelspec": {
   "display_name": "Python 3",
   "language": "python",
   "name": "python3"
  },
  "language_info": {
   "codemirror_mode": {
    "name": "ipython",
    "version": 3
   },
   "file_extension": ".py",
   "mimetype": "text/x-python",
   "name": "python",
   "nbconvert_exporter": "python",
   "pygments_lexer": "ipython3",
   "version": "3.7.1"
  }
 },
 "nbformat": 4,
 "nbformat_minor": 2
}
