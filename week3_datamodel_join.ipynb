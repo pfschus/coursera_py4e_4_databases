{
 "cells": [
  {
   "cell_type": "markdown",
   "metadata": {},
   "source": [
    "# Using databases with python- week 3\n",
    "\n",
    "From [coursera](https://www.coursera.org/learn/python-databases).\n",
    "\n",
    "July 2022. "
   ]
  },
  {
   "cell_type": "code",
   "execution_count": 1,
   "metadata": {},
   "outputs": [
    {
     "data": {
      "application/javascript": [
       "$.getScript('https://kmahelona.github.io/ipython_notebook_goodies/ipython_notebook_toc.js')\n"
      ],
      "text/plain": [
       "<IPython.core.display.Javascript object>"
      ]
     },
     "metadata": {},
     "output_type": "display_data"
    }
   ],
   "source": [
    "%%javascript\n",
    "$.getScript('https://kmahelona.github.io/ipython_notebook_goodies/ipython_notebook_toc.js')"
   ]
  },
  {
   "cell_type": "markdown",
   "metadata": {},
   "source": [
    "<div id=\"toc\"></div>"
   ]
  },
  {
   "cell_type": "markdown",
   "metadata": {},
   "source": [
    "# Data models\n",
    "\n",
    "## Designing a data model\n",
    "\n",
    "Now we talk about linking tables together. Each table will have a number of columns, some of the columns in the table are special columns that represent relationships to the other tables. \n",
    "\n",
    "This is where the power and complexity comes in. Teams should take time to carefully design the database. Draw a picture of the data objects for our application, and then figureo ut how to represent the objects and their relationships. \n",
    "\n",
    "**Basic rule**: Don't put the same data in twice- use a relationship instead.\n",
    "\n",
    "For each piece of information:  \n",
    "* Does this represent an object? Or an attribute of another object?  \n",
    "* Once we define objects, we need to define the relationships between objects  \n",
    "\n",
    "Create a list of each piece of information (columns):  \n",
    "* Columns: Track title / album / artist / genre / rating / len / count  \n",
    "* **FIRST TABLE**: Tracks  \n",
    "    * Start with the thing that is the most essential to this application. In this example, we are managing music tracks. Each row will have one unique track. So the first table will be the track table.  \n",
    "    * Which columns are attributes of the track? length, rating, count.  \n",
    "    * Columns in first table: track title / length / rating / count  \n",
    "* **SECOND TABLE**: Albums    \n",
    "    * What's the next thing to draw? Go to the albums. Tracks belong to albums, then albums belong to artists.  \n",
    "* **OTHER COLUMNS**\n",
    "    * Where does genre belong? Is it connected to an album, artist, or track? In most music software, changing the genre only affects that one track. So go back and add genre to the original track table. \n",
    "* **ID Key**  \n",
    "    * Add a primary key to each table. The primary key in each table is unique to that table only.  \n",
    "        * There is one key for every row.  \n",
    "        * When you set up the table, you can set it as a primary key, and tell it to auto increment so it automatically numbers up starting at 1.  \n",
    "    * If you want to link to another table, you can add a foreign key, which points to the primary key of another table. Name this key in a descriptive way.   \n",
    "    * A logical key is a way of setting up a relationship that you might use  \n",
    "    "
   ]
  },
  {
   "cell_type": "markdown",
   "metadata": {},
   "source": [
    "<img src=\"img\\week3_01.jpg?modified=2\" />"
   ]
  },
  {
   "cell_type": "markdown",
   "metadata": {},
   "source": [
    "## Setting up a data model in tables\n",
    "\n",
    "Start setting up a local db like this. Start by creating the table `tracks`. \n",
    "\n",
    "First, create your primary key `id`. Tell it to autoincrement. \n",
    "\n",
    "<img src=\"img\\week3_02.jpg?modified=1\" />"
   ]
  },
  {
   "cell_type": "markdown",
   "metadata": {},
   "source": [
    "I can create the other columns, although I can't create the columns for foreign keys because I have to be able to link them to their associated primary keys. \n",
    "\n",
    "I made a mistake here. You want to work from the outside of the tree toward the inside. I should have started with the artist table, then album, genre, and tracks last. \n",
    "\n",
    "I'll redo it in this order. Now, when I get to the album table, I can set up `artist_id` as a foreign key, linked to `id` in the `artist` table. \n",
    "\n",
    "<img src=\"img\\week3_03.jpg?modified=1\" />"
   ]
  },
  {
   "cell_type": "markdown",
   "metadata": {},
   "source": [
    "We can also create tables using the SQL command. For example, creating the `album` table above would take this command:  \n",
    "\n",
    "`CREATE TABLE album (\n",
    "    id        INTEGER PRIMARY KEY ASC AUTOINCREMENT,\n",
    "    title     TEXT,\n",
    "    artist_id INTEGER REFERENCES artist (id) \n",
    ");`\n",
    "\n",
    "I'm going to remote the `tracks` table and create it that way. \n",
    "\n",
    "`CREATE TABLE tracks(\n",
    "    id     INTEGER NOT NULL PRIMARY KEY AUTOINCREMENT UNIQUE,  \n",
    "    title  TEXT,  \n",
    "    album_id INTEGER REFERENCES artist (id),  \n",
    "    genre_id INTEGER REFERENCES genre (id),  \n",
    "    len INTEGER,  \n",
    "    rating INTEGER,  \n",
    "    count INTEGER  \n",
    ")`\n",
    "\n",
    "If I need to remove a table to redo the `CREATE` command from scratch, I can use:  \n",
    "\n",
    "`DROP TABLE tracks`"
   ]
  },
  {
   "cell_type": "markdown",
   "metadata": {},
   "source": [
    "## Insert data into the tables\n",
    "\n",
    "Case-sensitive?  \n",
    "* SQL commands- no  \n",
    "* Names of tables and columns- maybe  \n",
    "* Data itself- yes  \n",
    "\n",
    "Insert an entry into the `artist` table. The `id` field will be auto-generated, so we do not need to specify a value for that. \n",
    "\n",
    "`INSERT INTO artist (name) VALUES ('Taylor Swift')`\n",
    "\n",
    "When we look at the artist table and refresh, we see one entry with `id = 1`.  Each subsequent addition will have the next integer value as `id`. "
   ]
  },
  {
   "cell_type": "markdown",
   "metadata": {},
   "source": [
    "I'm going to add a few more artists in a row. Be sure to include a semi-colon at the end of each command. \n",
    "\n",
    "<img src=\"img\\week3_04.jpg?modified=1\" />"
   ]
  },
  {
   "cell_type": "markdown",
   "metadata": {},
   "source": [
    "Now let's add some data to the `genre` table. This is just a list of genres. So far we have artists who have written a number of genres, but let's just add pop, indie, and country. I'm going to try adding all three at once. You must have parenthesis around each individual item.\n",
    "\n",
    "`INSERT INTO genre (name) VALUES ('Pop'),('Indie'),('Country')`\n",
    "\n",
    "We need to pay attention to the `id` values here because we are going to link them to the other tables.   \n",
    "<img src=\"img\\week3_05.jpg?modified=1\" />"
   ]
  },
  {
   "cell_type": "markdown",
   "metadata": {},
   "source": [
    "To add data to the album table, we need to consider all three columns that we have set up:  \n",
    "* `id` - will be auto-populated  \n",
    "* `title` - we will specify  \n",
    "* `artist_id` - we will specify, needs to match `id` in the `artist` table  \n",
    "\n",
    "So let's add the Sour album. \n",
    "\n",
    "`INSERT INTO album (title, artist_id) VALUES ('Sour',2)`\n",
    "\n",
    "For foreign keys, we have to put in the numbers explicitly. It may seem easier to put the names in, but remember that the computer is going to keep track of everything, so we won't usually put these in by hand. \n",
    "\n",
    "<img src=\"img\\week3_06.jpg?modified=1\" />"
   ]
  },
  {
   "cell_type": "markdown",
   "metadata": {},
   "source": [
    "Finally, let's popular the `tracks` table. I'll add my favorite songs from each of these albums. \n",
    "\n",
    "First, I tried the following commands, but they failed. SQL was complaining about a foreign key, though I didn't know which one. It turns out that the `album key` with `id=5` was failing, because I had accidentally set up this foreign key to be connected to the `artist` `id` value. Big mistake! I made the change and then hit commit, which launched a lengthy SQL command. \n",
    "\n",
    "Now, rerunning the SQL command, the entries are created.\n",
    "\n",
    "<img src=\"img\\week3_07.jpg?modified=3\" />"
   ]
  },
  {
   "cell_type": "markdown",
   "metadata": {},
   "source": [
    "We have replication of numbers in the `album_id` and `genre_id` columns, but that's ok. The important thing is that the words `Pop` and `Indie` only appear once in the database. Integers are must easier to store than strings over and over."
   ]
  },
  {
   "cell_type": "markdown",
   "metadata": {},
   "source": [
    "## Look at the final product\n",
    "\n",
    "Just to visualize what we have created, let's print everything out. \n",
    "\n",
    "<img src=\"img\\week3_08.jpg?modified=1\" />\n",
    "\n",
    "I made that diagram myself, but some database programs can also visualize all of the relationships for you. I'm going to try with the program [`DBeaver`](https://github.com/dbeaver/dbeaver/wiki)\n",
    "\n",
    "It's not as pretty as my diagram, but it works out of the box. Open the database, select everything in the DatabaseNavigator panel, right click and select `Create New ER Diagram`. Give it a name and voila! \n",
    "\n",
    "<img src=\"img\\week3_12.jpg?modified=1\" />"
   ]
  },
  {
   "cell_type": "markdown",
   "metadata": {},
   "source": [
    "# Reconstructing data with `JOIN`\n",
    "\n",
    "Now we have all of our data in the tables. Let's come full circle and bring it all back together with the `JOIN` command. \n",
    "\n",
    "We need to reconstruct all of these relationships. Select data from multiple tables and connect tables to one another. \n",
    "\n",
    "## Combine album title and artist name\n",
    "\n",
    "We have bits and pieces of information all over the place, but what if we want to display a UI like what you'd see in iTunes, that combines all of the info for each track? We need to combine them together. \n",
    "\n",
    "\n",
    "\n",
    "Start by creating a table of album title and artist name.  \n",
    "* Album title will come from `album` table  \n",
    "* Artist name will come from `artist` table  \n",
    "* We'll connect the `album` table to the `artist` table using the `artist_id` foreign key  \n",
    "\n",
    "We will need to pass the following info:  \n",
    "* What we want to see: `SELECT album.title, artist.name`  \n",
    "* The tables that hold the data: `FROM album JOIN artist`  \n",
    "* How the tables are linked: `ON album.artist_id = artist.id`  \n",
    "\n",
    "<img src=\"img\\week3_09.jpg?modified=1\" />\n",
    "\n",
    "Right now this table just lives in our temporary results field, passed back to us from the SQL query. It is not stored anywhere. We're not building a new table in the database right now. We are just retrieving information from the database and putting it into a convenient form locally.\n",
    "\n",
    "Notice that we don't have any of the id keys here. That's because we don't need them here anymore. We could have asked for them if we wanted them, but nahh. "
   ]
  },
  {
   "cell_type": "markdown",
   "metadata": {},
   "source": [
    "## Combine track title and genre name\n",
    "\n",
    "Step through our query again:  \n",
    "* What we want to see: `SELECT tracks.title, genre.name`  \n",
    "* The tables that hold the data: `FROM tracks JOIN genre`  \n",
    "* How the tables are linked: `ON tracks.genre_id = genre.id`  \n",
    "\n",
    "<img src=\"img\\week3_10.jpg?modified=1\" />\n",
    "\n",
    "Looks great. We are getting the hang of it. However, the naming here is confusing because we use the columns `name` and `title` in multiple tables. So let's rename them:  \n",
    "\n",
    "<img src=\"img\\week3_11.jpg?modified=1\" />"
   ]
  },
  {
   "cell_type": "markdown",
   "metadata": {},
   "source": [
    "## Try it without the `ON` clause\n",
    "\n",
    "What's going on under the hood? Try running this without the `ON` clause- it will try all combinations. \n",
    "\n",
    "<img src=\"img\\week3_13.jpg?modified=1\" />\n",
    "\n",
    "So the `JOIN` operation is actually generating all possible combinations, and then the `ON` clause is telling it to only keep the correct entries. "
   ]
  },
  {
   "cell_type": "markdown",
   "metadata": {},
   "source": [
    "## Combine all the tables together\n",
    "\n",
    "We want one final table with the following columns:  \n",
    "* track title  \n",
    "* artist name  \n",
    "* album title  \n",
    "* genre name\n",
    "\n",
    "Let's follow our steps for building the query: \n",
    "* What we want to see: `SELECT tracks.title, artist.name, album.title, genre.name`  \n",
    "* The tables that hold the data: `FROM tracks JOIN artist JOIN album JOIN genre`  \n",
    "* How the tables are linked: `ON tracks.genre_id = genre.id and tracks.album_id = album.id and album.artist_id = artist.id`  "
   ]
  },
  {
   "cell_type": "markdown",
   "metadata": {},
   "source": [
    "Spacing in the SQL query does not matter, so I am going to organize the text so that I can visually parse all of the lines quickly and clearly. \n",
    "\n",
    "<img src=\"img\\week3_14.jpg?modified=1\" />"
   ]
  },
  {
   "cell_type": "markdown",
   "metadata": {},
   "source": [
    "Now we are reconstructing the view that our users actually want to see, but we can also handle millions and billions of rows because we have constructed a data model that makes sense. "
   ]
  }
 ],
 "metadata": {
  "kernelspec": {
   "display_name": "Python 3",
   "language": "python",
   "name": "python3"
  },
  "language_info": {
   "codemirror_mode": {
    "name": "ipython",
    "version": 3
   },
   "file_extension": ".py",
   "mimetype": "text/x-python",
   "name": "python",
   "nbconvert_exporter": "python",
   "pygments_lexer": "ipython3",
   "version": "3.7.1"
  }
 },
 "nbformat": 4,
 "nbformat_minor": 2
}
