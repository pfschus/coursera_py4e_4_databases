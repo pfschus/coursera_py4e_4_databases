{
 "cells": [
  {
   "cell_type": "markdown",
   "metadata": {},
   "source": [
    "# Using databases with python- week 4\n",
    "\n",
    "From [coursera](https://www.coursera.org/learn/python-databases).\n",
    "\n",
    "July 2022.\n"
   ]
  },
  {
   "cell_type": "code",
   "execution_count": 1,
   "metadata": {},
   "outputs": [
    {
     "data": {
      "application/javascript": [
       "$.getScript('https://kmahelona.github.io/ipython_notebook_goodies/ipython_notebook_toc.js')\n"
      ],
      "text/plain": [
       "<IPython.core.display.Javascript object>"
      ]
     },
     "metadata": {},
     "output_type": "display_data"
    }
   ],
   "source": [
    "%%javascript\n",
    "$.getScript('https://kmahelona.github.io/ipython_notebook_goodies/ipython_notebook_toc.js')"
   ]
  },
  {
   "cell_type": "markdown",
   "metadata": {},
   "source": [
    "<div id=\"toc\"></div>"
   ]
  },
  {
   "cell_type": "markdown",
   "metadata": {},
   "source": [
    "# Many-to-many relationships\n",
    "\n",
    "Everything we have done so far is \"one-to-many\", such as, an album has many tracks. We have a foreign key on the many side (tracks) pointing to the primary key in the one side (album).\n",
    "\n",
    "Sometimes we have a relationship between data that is many-to-many. For example, there can be many artists on an album. \n",
    "\n",
    "Look at another example, books and authors. In this diagram, the crows feet shows that there is a many-to-many relationship. An author can write many books, and a book can contain many authors.\n",
    "\n",
    "<img src=\"https://upload.wikimedia.org/wikipedia/commons/thumb/c/c4/CPT-Databases-ManytoMany.svg/1024px-CPT-Databases-ManytoMany.svg.png?modified=1\" />\n",
    "\n",
    "In this case, you can't put a single foreign key on either side pointing to the other. So you need to create a table in the middle that models the relationship between them. This turns it into two one-to-many relationships. \n",
    "\n",
    "<img src=\"https://upload.wikimedia.org/wikipedia/commons/thumb/0/02/Databases-ManyToManyWJunction.jpg/1024px-Databases-ManyToManyWJunction.jpg?modified=1\" />"
   ]
  },
  {
   "cell_type": "markdown",
   "metadata": {},
   "source": [
    "# Set up a database with a many-to-many relationship"
   ]
  },
  {
   "cell_type": "markdown",
   "metadata": {},
   "source": [
    "Let's model this table in the middle for another example- students taking classes. \n",
    "\n",
    "\n",
    "<img src=\"img/week4_01.jpg?modified=1\" />"
   ]
  },
  {
   "cell_type": "markdown",
   "metadata": {},
   "source": [
    "The table in the middle is called the membership table and has two foreign keys in it. Each row has two foreign keys, so each connection between course and user has one row in the membership table.\n",
    "\n",
    "We don't put a primary key in the membership table because we can instead make a key that is a combination of the two foreign keys. You could however add another entry called \"role\" that stores whether the user is the instructor or student. "
   ]
  },
  {
   "cell_type": "markdown",
   "metadata": {},
   "source": [
    "Let's code up an example in a database. I'm going to use `DBeaver` for this because I want to be able to visualize it easily.\n",
    "\n",
    "`CREATE TABLE Users (\n",
    "    id     INTEGER NOT NULL PRIMARY KEY AUTOINCREMENT UNIQUE,\n",
    "    name   TEXT,\n",
    "    email  TEXT\n",
    ");\n",
    "CREATE TABLE Course (\n",
    "    id     INTEGER NOT NULL PRIMARY KEY AUTOINCREMENT UNIQUE,\n",
    "    title  TEXT\n",
    ");\n",
    "CREATE TABLE Members (\n",
    "    user_id    INTEGER,\n",
    "    course_id  INTEGER,\n",
    "    role  INTEGER,\n",
    "    PRIMARY KEY (user_id, course_id)\n",
    ");`\n",
    "\n",
    "Note that SQL treats `role` as something special, not just your normal column name. "
   ]
  },
  {
   "cell_type": "markdown",
   "metadata": {},
   "source": [
    "Create some entries in the `Users` and `Course` tables.\n",
    "\n",
    "`INSERT INTO Users (name, email) VALUES ('Patricia','pfschus@umich.edu');  \n",
    "INSERT INTO Users (name, email) VALUES ('Charlie','caschulx@umich.edu');  \n",
    "INSERT INTO Users (name, email) VALUES ('Cassie','ruchcas@umich.edu');`\n",
    "\n",
    "`INSERT INTO Course (title) VALUES ('Eng 101');  \n",
    "INSERT INTO Course (title) VALUES ('NERS 250');  \n",
    "INSERT INTO Course (title) VALUES ('NERS 499');  `\n",
    "\n"
   ]
  },
  {
   "cell_type": "markdown",
   "metadata": {},
   "source": [
    "How do we populate the `Member` table? Connecting each user to a course and assigning a role. \n",
    "\n",
    "In this case, we are going to use `0 = student` and `1 = instructor` for the role. In this case, I'm setting up the following:\n",
    "\n",
    "* All three of us were students in Eng 101  \n",
    "* Cassie and Patricia were students in NERS 250  \n",
    "* Patricia was an instructor in NERS 499  \n",
    "\n",
    "`INSERT INTO Members (user_id, course_id, role) VALUES (1,1,0);\n",
    "INSERT INTO Members (user_id, course_id, role) VALUES (1,2,0);\n",
    "INSERT INTO Members (user_id, course_id, role) VALUES (1,3,1);\n",
    "INSERT INTO Members (user_id, course_id, role) VALUES (2,1,0);\n",
    "INSERT INTO Members (user_id, course_id, role) VALUES (3,1,0);\n",
    "INSERT INTO Members (user_id, course_id, role) VALUES (3,2,0);`"
   ]
  },
  {
   "cell_type": "markdown",
   "metadata": {},
   "source": [
    "Here is what all of the tables look like individually. \n",
    "\n",
    "\n",
    "<img src=\"img/week4_02.jpg?modified=1\" />"
   ]
  },
  {
   "cell_type": "markdown",
   "metadata": {},
   "source": [
    "# Get data out of that database\n",
    "\n",
    "We will use a JOIN statement to put these three tables together into something useful for us. \n",
    "\n",
    "Follow the same logic as in week 3:  \n",
    "* What we want to see: `SELECT Users.name, Users.email, Members.role, Course.title`\n",
    "* The tables that hold the data: `FROM Users JOIN Members JOIN Course`\n",
    "* How the tables are linked: `ON Members.user_id = Users.id AND Members.course_id = Course.id`\n",
    "* *BONUS* Order the entries: `ORDER BY Course.title, Member.role DESC, Users.name`\n",
    "    * This sets the precedent about what's the most important information\n",
    "\n",
    "<img src=\"img/week4_03.jpg?modified=1\" />"
   ]
  },
  {
   "cell_type": "markdown",
   "metadata": {},
   "source": [
    "# Why go to all these lengths\n",
    "\n",
    "Why do we spend so much time to carefully set up all of these tables? It's all about speed. \n",
    "\n",
    "At a certain point, you cross over a point where it starts to get slow. The only way to get it to go fast is by rearchitecting it. \n",
    "\n",
    "In databases, if you set it up properly to begin with, it should always be fast. "
   ]
  },
  {
   "cell_type": "code",
   "execution_count": null,
   "metadata": {},
   "outputs": [],
   "source": []
  }
 ],
 "metadata": {
  "kernelspec": {
   "display_name": "Python 3",
   "language": "python",
   "name": "python3"
  },
  "language_info": {
   "codemirror_mode": {
    "name": "ipython",
    "version": 3
   },
   "file_extension": ".py",
   "mimetype": "text/x-python",
   "name": "python",
   "nbconvert_exporter": "python",
   "pygments_lexer": "ipython3",
   "version": "3.7.1"
  }
 },
 "nbformat": 4,
 "nbformat_minor": 2
}
